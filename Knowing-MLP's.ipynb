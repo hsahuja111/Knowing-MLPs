{
 "cells": [
  {
   "cell_type": "markdown",
   "id": "a736d316-20aa-4263-84c3-8afc5c4a9cc6",
   "metadata": {
    "id": "a736d316-20aa-4263-84c3-8afc5c4a9cc6",
    "jp-MarkdownHeadingCollapsed": true,
    "tags": []
   },
   "source": [
    "\n",
    "\n",
    "# Knowing MLPs\n",
    "\n"
   ]
  },
  {
   "cell_type": "markdown",
   "id": "436f25c4",
   "metadata": {
    "id": "436f25c4",
    "jp-MarkdownHeadingCollapsed": true,
    "tags": []
   },
   "source": [
    "### Step zero: Import Libraries"
   ]
  },
  {
   "cell_type": "code",
   "execution_count": 1,
   "id": "1009eb09",
   "metadata": {
    "id": "1009eb09",
    "scrolled": true
   },
   "outputs": [],
   "source": [
    "import warnings\n",
    "warnings.filterwarnings(\"ignore\")\n",
    "\n",
    "import numpy as np\n",
    "import pandas as pd\n",
    "\n",
    "import matplotlib\n",
    "\n",
    "%matplotlib inline\n",
    "\n",
    "import torch\n",
    "import torchvision\n",
    "from torchvision import datasets\n",
    "from torchvision import transforms\n",
    "from torch.autograd import Variable\n",
    "import torch.nn as nn\n",
    "import matplotlib.pyplot as plt\n",
    "from sklearn.metrics import f1_score\n",
    "from torch.optim.lr_scheduler import StepLR\n",
    "from torch.optim.lr_scheduler import LambdaLR\n",
    "import torch.optim.lr_scheduler as lr_scheduler\n",
    "\n",
    "device = torch.device('cuda' if torch.cuda.is_available() else 'cpu')"
   ]
  },
  {
   "cell_type": "code",
   "execution_count": 2,
   "id": "f1bca166",
   "metadata": {
    "colab": {
     "base_uri": "https://localhost:8080/"
    },
    "id": "f1bca166",
    "outputId": "ffa45646-bc57-4cdb-bc7c-47529b2f1f94"
   },
   "outputs": [
    {
     "name": "stdout",
     "output_type": "stream",
     "text": [
      "/usr/bin/python3\n"
     ]
    }
   ],
   "source": [
    "import sys\n",
    "print(sys.executable)"
   ]
  },
  {
   "cell_type": "markdown",
   "id": "5e0546f0",
   "metadata": {
    "id": "5e0546f0",
    "jp-MarkdownHeadingCollapsed": true,
    "tags": []
   },
   "source": [
    "### Step one: Using a PyTorch Dataset\n",
    "Loading MNIST dataset from `torchvision.datasets`"
   ]
  },
  {
   "cell_type": "code",
   "execution_count": 2,
   "id": "4d54d14d",
   "metadata": {
    "colab": {
     "base_uri": "https://localhost:8080/",
     "height": 536,
     "referenced_widgets": [
      "1e82a5da3584491ab550217db9ce36fb",
      "adf1383661014578a3d206a9a0f96a90",
      "511e48627c9e4bbb8a955cae6128d106",
      "70ec1396ba1c4ed2bc81bac405882ea7",
      "b4df50d897aa4ea7befd5033f94c23f5",
      "a33609ba7b3446309adbf5080dd72a9e",
      "81c6fe9f0a8a42228f0775e18125ef55",
      "ae7c02e80c154ceb8cebcd7d484e2a45",
      "a6cf056b669a452cafc8c803dfee9290",
      "bd1f96367db44c8f9572a699857483d7",
      "4bac833384fe4294a626e1d5b5ec216b",
      "3fadf57cfe634845b001e00366852599",
      "aab050d190954055a3e2d170f5d0454d",
      "80383b761829482cbdd364572b18885c",
      "92e38d6266134a79a7aafabb26c0ac3f",
      "1803bcbbe1524fa0b6e1db560de6b496",
      "62cf16a2cbd9488eab6099218f0006c5",
      "06d20f92f8f1490b86ed910e3b5194a9",
      "815f665defa142d89f5bf1d58bc5ab20",
      "cc4c1f7e6cf94b6d8bd10570932ef39e",
      "7cfeff3461854cdfbfbdd3ea58657d3f",
      "99fccefd8af34649a4a5107f8bf29007",
      "003d9ea7eaec4f0db4508bcf9110b385",
      "7048a990805b4b6a8d94d502cf3e110e",
      "6ac634f5452649149876cf3123f8ddea",
      "be452a15f5a34bf598ce95335d0812b1",
      "8cc39f8001624fb292658ba7e6f21533",
      "1f7fa945bcbe4240bc78ddf4c055d15d",
      "e8a21eede79a4063a7b39df3f81e4a43",
      "346c6ec92c114a78b9cfd9018eb8bd47",
      "4377b8ad05274122944495ed483aea2f",
      "138a4c80622f48f497ff0f1b799ea91a",
      "a13c19e3e3ac4be59a75d01ccffb3289",
      "14231536c23e45f99bcdb48d55c7fbee",
      "8249c029d3fc4dff92fefddcb8aba96c",
      "3f98e4126f6c4f14b35e084f70ebfee5",
      "d1724784850747c09e72944cd8b02d20",
      "089396cd351f47aa8f1df2ef02f16b32",
      "45859ae2ef7b4e80b27bb662b515b57d",
      "79ae8efd26c74eeeb3c986628cf09cc7",
      "a3f4ff80b97340469f4109cc2773249b",
      "6913a94764dc44dcaadd18d45c8ee897",
      "c55daa4dd54e4bc1bba0eb036e885589",
      "a77d4e4662ef4a82bbe17b556f7a36fd"
     ]
    },
    "id": "4d54d14d",
    "outputId": "f17ee2bd-330a-4aef-8119-39dcec4be3c1"
   },
   "outputs": [
    {
     "name": "stdout",
     "output_type": "stream",
     "text": [
      "Downloading http://yann.lecun.com/exdb/mnist/train-images-idx3-ubyte.gz\n",
      "Downloading http://yann.lecun.com/exdb/mnist/train-images-idx3-ubyte.gz to ./data/MNIST/raw/train-images-idx3-ubyte.gz\n"
     ]
    },
    {
     "data": {
      "application/vnd.jupyter.widget-view+json": {
       "model_id": "1e82a5da3584491ab550217db9ce36fb",
       "version_major": 2,
       "version_minor": 0
      },
      "text/plain": [
       "  0%|          | 0/9912422 [00:00<?, ?it/s]"
      ]
     },
     "metadata": {},
     "output_type": "display_data"
    },
    {
     "name": "stdout",
     "output_type": "stream",
     "text": [
      "Extracting ./data/MNIST/raw/train-images-idx3-ubyte.gz to ./data/MNIST/raw\n",
      "\n",
      "Downloading http://yann.lecun.com/exdb/mnist/train-labels-idx1-ubyte.gz\n",
      "Downloading http://yann.lecun.com/exdb/mnist/train-labels-idx1-ubyte.gz to ./data/MNIST/raw/train-labels-idx1-ubyte.gz\n"
     ]
    },
    {
     "data": {
      "application/vnd.jupyter.widget-view+json": {
       "model_id": "3fadf57cfe634845b001e00366852599",
       "version_major": 2,
       "version_minor": 0
      },
      "text/plain": [
       "  0%|          | 0/28881 [00:00<?, ?it/s]"
      ]
     },
     "metadata": {},
     "output_type": "display_data"
    },
    {
     "name": "stdout",
     "output_type": "stream",
     "text": [
      "Extracting ./data/MNIST/raw/train-labels-idx1-ubyte.gz to ./data/MNIST/raw\n",
      "\n",
      "Downloading http://yann.lecun.com/exdb/mnist/t10k-images-idx3-ubyte.gz\n",
      "Downloading http://yann.lecun.com/exdb/mnist/t10k-images-idx3-ubyte.gz to ./data/MNIST/raw/t10k-images-idx3-ubyte.gz\n"
     ]
    },
    {
     "data": {
      "application/vnd.jupyter.widget-view+json": {
       "model_id": "003d9ea7eaec4f0db4508bcf9110b385",
       "version_major": 2,
       "version_minor": 0
      },
      "text/plain": [
       "  0%|          | 0/1648877 [00:00<?, ?it/s]"
      ]
     },
     "metadata": {},
     "output_type": "display_data"
    },
    {
     "name": "stdout",
     "output_type": "stream",
     "text": [
      "Extracting ./data/MNIST/raw/t10k-images-idx3-ubyte.gz to ./data/MNIST/raw\n",
      "\n",
      "Downloading http://yann.lecun.com/exdb/mnist/t10k-labels-idx1-ubyte.gz\n",
      "Downloading http://yann.lecun.com/exdb/mnist/t10k-labels-idx1-ubyte.gz to ./data/MNIST/raw/t10k-labels-idx1-ubyte.gz\n"
     ]
    },
    {
     "data": {
      "application/vnd.jupyter.widget-view+json": {
       "model_id": "14231536c23e45f99bcdb48d55c7fbee",
       "version_major": 2,
       "version_minor": 0
      },
      "text/plain": [
       "  0%|          | 0/4542 [00:00<?, ?it/s]"
      ]
     },
     "metadata": {},
     "output_type": "display_data"
    },
    {
     "name": "stdout",
     "output_type": "stream",
     "text": [
      "Extracting ./data/MNIST/raw/t10k-labels-idx1-ubyte.gz to ./data/MNIST/raw\n",
      "\n",
      "Dataset MNIST\n",
      "    Number of datapoints: 10000\n",
      "    Root location: ./data\n",
      "    Split: Test\n",
      "    StandardTransform\n",
      "Transform: ToTensor()\n"
     ]
    }
   ],
   "source": [
    "transform = transforms.Compose([\n",
    "                    transforms.ToTensor(), \n",
    "            ])\n",
    "\n",
    "trainset = torchvision.datasets.MNIST(root='./data', \n",
    "                                           train=True, \n",
    "                                           transform=transforms.ToTensor(),  \n",
    "                                           download=True)\n",
    "testset = torchvision.datasets.MNIST(root='./data', \n",
    "                                          train=False, \n",
    "                                          transform=transforms.ToTensor())\n",
    "\n",
    "print(testset)"
   ]
  },
  {
   "cell_type": "code",
   "execution_count": 3,
   "id": "db5bf20a",
   "metadata": {
    "id": "db5bf20a"
   },
   "outputs": [],
   "source": [
    "## Loading Training Data\n",
    "trainloader_minibatch = torch.utils.data.DataLoader(trainset, batch_size=64)\n",
    "trainloader_stochastic = torch.utils.data.DataLoader(trainset, batch_size=1)\n",
    "\n",
    "## Loading Testing Data\n",
    "testloader_minibatch = torch.utils.data.DataLoader(testset, batch_size=64)\n",
    "testloader_stochastic = torch.utils.data.DataLoader(testset, batch_size=1)"
   ]
  },
  {
   "cell_type": "code",
   "execution_count": 4,
   "id": "179becdc",
   "metadata": {
    "colab": {
     "base_uri": "https://localhost:8080/"
    },
    "id": "179becdc",
    "outputId": "4af3b660-5613-46ac-c7f9-07bfbfa87a36"
   },
   "outputs": [
    {
     "name": "stderr",
     "output_type": "stream",
     "text": [
      "  0%|          | 1/938 [00:00<01:25, 10.95it/s]"
     ]
    },
    {
     "name": "stdout",
     "output_type": "stream",
     "text": [
      "0 torch.Size([64, 1, 28, 28]) torch.Size([64])\n"
     ]
    },
    {
     "data": {
      "text/plain": [
       "True"
      ]
     },
     "execution_count": 4,
     "metadata": {},
     "output_type": "execute_result"
    }
   ],
   "source": [
    "from tqdm import tqdm\n",
    "pbar = tqdm(total=len(trainloader_minibatch))\n",
    "for idx, (data,label) in enumerate(trainloader_minibatch):\n",
    "    print(idx,data.size(),label.size())\n",
    "    pbar.update(1)\n",
    "    break\n",
    "pbar.refresh()"
   ]
  },
  {
   "cell_type": "markdown",
   "id": "b25020e7",
   "metadata": {
    "id": "b25020e7",
    "jp-MarkdownHeadingCollapsed": true,
    "tags": []
   },
   "source": [
    "### Step two: Defining a MLP Model \n"
   ]
  },
  {
   "cell_type": "code",
   "execution_count": 4,
   "id": "a49dc9a7",
   "metadata": {
    "id": "a49dc9a7"
   },
   "outputs": [],
   "source": [
    "class SimpleMLP(nn.Module):\n",
    "    def __init__(self, input_size, hidden_size, num_classes):\n",
    "        super(SimpleMLP, self).__init__()\n",
    "        self.l1 = nn.Linear(input_size, hidden_size) \n",
    "        self.relu = nn.ReLU()\n",
    "        self.l2 = nn.Linear(hidden_size, num_classes)  \n",
    "    \n",
    "    def forward(self, x):\n",
    "        out = self.l1(x)\n",
    "        out = self.relu(out)\n",
    "        out = self.l2(out)\n",
    "        return out"
   ]
  },
  {
   "cell_type": "markdown",
   "id": "520e81eb",
   "metadata": {
    "id": "520e81eb",
    "jp-MarkdownHeadingCollapsed": true,
    "tags": []
   },
   "source": [
    "### Step three: Define the following optimizers using nn.optim\n",
    "1. SGD\n",
    "2. SGD with momentum\n",
    "3. SGD with L2 regularization\n",
    "4. RMSprop\n",
    "5. Adam"
   ]
  },
  {
   "cell_type": "code",
   "execution_count": 6,
   "id": "D6NJ_SYotWI8",
   "metadata": {
    "id": "D6NJ_SYotWI8"
   },
   "outputs": [],
   "source": [
    "# Hyper-parameters \n",
    "input_size = 784 \n",
    "hidden_size = 500 \n",
    "num_classes = 10\n",
    "\n",
    "learning_rate = 0.001"
   ]
  },
  {
   "cell_type": "code",
   "execution_count": 5,
   "id": "717fa204",
   "metadata": {
    "id": "717fa204"
   },
   "outputs": [],
   "source": [
    "def trainAndTestModel(model,criterion,optimizer,num_epochs): ## After each epoch finding train and test lossi.e Network is getting trained for one epoch and then we are finding train and test loss based upon that\n",
    "\n",
    "  train_losses = []\n",
    "  test_losses = []\n",
    "\n",
    "  n_total_steps = len(trainloader_minibatch)\n",
    "\n",
    "  for epoch in range(num_epochs):\n",
    "    train_loss = 0\n",
    "    test_loss = 0\n",
    "    for i, (images, labels) in enumerate(trainloader_minibatch):\n",
    "      images = images.reshape(-1, 28*28).to(device)\n",
    "      labels = labels.to(device)\n",
    "      \n",
    "      # Forward Propogation\n",
    "      outputs = model(images).to(device)\n",
    "\n",
    "      # Calculating Loss\n",
    "      loss = criterion(outputs, labels)\n",
    "      \n",
    "      # Backward Propogation\n",
    "      loss.backward()\n",
    "\n",
    "      # Updating the values for Loss and weights\n",
    "      optimizer.step()\n",
    "\n",
    "      # Making all gradients of optimiser to zero for the next batch\n",
    "      optimizer.zero_grad()\n",
    "      \n",
    "      # if (i+1) % 100 == 0:\n",
    "      #     print (f'Epoch [{epoch+1}/{num_epochs}], Step [{i+1}/{n_total_steps}], Loss: {loss.item():.4f}')\n",
    "      train_loss += loss.item()\n",
    "\n",
    "\n",
    "    ##Finding train and test loss after each epoch \n",
    "    train_losses.append(train_loss/len(trainloader_minibatch))\n",
    "\n",
    "    with torch.no_grad():\n",
    "      for images, labels in testloader_minibatch:\n",
    "\n",
    "        images = images.reshape(-1, 28*28).to(device)\n",
    "        labels = labels.to(device)\n",
    "        output = model(images).to(device)\n",
    "        test_loss += criterion(output, labels).item()\n",
    "\n",
    "      test_losses.append(test_loss/len(testloader_minibatch))\n",
    "\n",
    "  ## Calculating accuracy after running on all epochs\n",
    "  with torch.no_grad():\n",
    "\n",
    "    n_correct = 0\n",
    "    n_samples = len(testloader_minibatch.dataset)\n",
    "    y_true = []\n",
    "    y_pred = []\n",
    "\n",
    "    for images, labels in testloader_minibatch:\n",
    "        images = images.reshape(-1, 28*28).to(device)\n",
    "        labels = labels.to(device)\n",
    "\n",
    "        outputs = model(images).to(device)\n",
    "\n",
    "        # max returns (output_value ,index)\n",
    "        _, predicted = torch.max(outputs, 1)\n",
    "        n_correct += (predicted == labels).sum().item()\n",
    "        y_true.extend(labels.cpu().numpy())\n",
    "        y_pred.extend(predicted.cpu().numpy())\n",
    "\n",
    "\n",
    "    acc = n_correct / n_samples\n",
    "    accuracy = acc*100\n",
    "    f1 = f1_score(y_true, y_pred, average='weighted')\n",
    "    return accuracy,f1,train_losses,test_losses\n",
    "    "
   ]
  },
  {
   "cell_type": "markdown",
   "id": "G7ckbamVxO3Y",
   "metadata": {
    "id": "G7ckbamVxO3Y",
    "jp-MarkdownHeadingCollapsed": true,
    "tags": []
   },
   "source": [
    "### Step four: Running the SimpleMLP using different optimizers and plotting train and test loss for each optimizer.\n",
    "\n",
    "\n",
    "Reported final accuracy, F1 score and other relavant metrics in a tabular form on test and train datasets."
   ]
  },
  {
   "cell_type": "code",
   "execution_count": 7,
   "id": "o43KzojPbgSj",
   "metadata": {
    "id": "o43KzojPbgSj"
   },
   "outputs": [],
   "source": [
    "def plotTrainTestLosses(train_losses,test_losses,num_epochs):\n",
    "  x = np.arange(start = 1,stop = num_epochs+1)\n",
    "  plt.plot(x , train_losses ,  label='Train Loss')\n",
    "  plt.plot(x , test_losses  , label='Test Loss')\n",
    "  plt.legend()\n",
    "  plt.title(\"Plot for Train/Test Loss\")\n",
    "  plt.show()"
   ]
  },
  {
   "cell_type": "markdown",
   "id": "iBXfKMl7Pica",
   "metadata": {
    "id": "iBXfKMl7Pica"
   },
   "source": [
    "# 1. SGD OPTIMIZER"
   ]
  },
  {
   "cell_type": "code",
   "execution_count": 22,
   "id": "nL80J8Nnzvpa",
   "metadata": {
    "colab": {
     "base_uri": "https://localhost:8080/",
     "height": 317
    },
    "id": "nL80J8Nnzvpa",
    "outputId": "c8eee5ac-06e9-44f4-e7d2-ece93d8ee55b"
   },
   "outputs": [
    {
     "name": "stdout",
     "output_type": "stream",
     "text": [
      "Accuracy for SGD optimizer is  90.39\n",
      "F1 score for SGD optimizer is  0.9035204435547086\n"
     ]
    },
    {
     "data": {
      "image/png": "[encoded data removed]",
      "text/plain": [
       "<Figure size 432x288 with 1 Axes>"
      ]
     },
     "metadata": {
      "needs_background": "light"
     },
     "output_type": "display_data"
    }
   ],
   "source": [
    "\n",
    "# Model and Criterion\n",
    "model = SimpleMLP(input_size, hidden_size, num_classes).to(device)\n",
    "criterion = nn.CrossEntropyLoss()\n",
    "num_epochs = 30\n",
    "# SGD OPTIMISER\n",
    "optimizer = torch.optim.SGD(model.parameters(), lr=learning_rate)  \n",
    "accuracy,f1,train_losses,test_losses = trainAndTestModel(model,criterion,optimizer,num_epochs)\n",
    "print(\"Accuracy for SGD optimizer is \",accuracy)\n",
    "print(\"F1 score for SGD optimizer is \",f1)\n",
    "plotTrainTestLosses(train_losses,test_losses,num_epochs)"
   ]
  },
  {
   "cell_type": "markdown",
   "id": "7TWUrXkKvX6n",
   "metadata": {
    "id": "7TWUrXkKvX6n"
   },
   "source": [
    "# 2. SGD WITH MOMENTUM OPTIMIZER"
   ]
  },
  {
   "cell_type": "code",
   "execution_count": 23,
   "id": "emhkLc38vWcS",
   "metadata": {
    "colab": {
     "base_uri": "https://localhost:8080/",
     "height": 317
    },
    "id": "emhkLc38vWcS",
    "outputId": "68e510e7-591a-4d52-ea55-0077615105b4"
   },
   "outputs": [
    {
     "name": "stdout",
     "output_type": "stream",
     "text": [
      "Accuracy for SGD WITH MOMENTUM optimizer is  93.33\n",
      "F1 score for SGD WITH MOMENTUM optimizer is  0.9331956085178855\n"
     ]
    },
    {
     "data": {
      "image/png": "[encoded data removed]",
      "text/plain": [
       "<Figure size 432x288 with 1 Axes>"
      ]
     },
     "metadata": {
      "needs_background": "light"
     },
     "output_type": "display_data"
    }
   ],
   "source": [
    "# Model and Criterion\n",
    "model = SimpleMLP(input_size, hidden_size, num_classes).to(device)\n",
    "criterion = nn.CrossEntropyLoss()\n",
    "num_epochs = 10\n",
    "\n",
    "# OPTIMISER\n",
    "optimizer = torch.optim.SGD(model.parameters(), lr=learning_rate,momentum = 0.9) \n",
    "\n",
    "accuracy,f1,train_losses,test_losses = trainAndTestModel(model,criterion,optimizer,num_epochs)\n",
    "print(\"Accuracy for SGD WITH MOMENTUM optimizer is \",accuracy)\n",
    "print(\"F1 score for SGD WITH MOMENTUM optimizer is \",f1)\n",
    "plotTrainTestLosses(train_losses,test_losses,num_epochs)"
   ]
  },
  {
   "cell_type": "markdown",
   "id": "35_3GAj5v7jL",
   "metadata": {
    "id": "35_3GAj5v7jL"
   },
   "source": [
    "# 3. SGD WITH L2 REGULARIZATION OPTIMIZER"
   ]
  },
  {
   "cell_type": "code",
   "execution_count": 24,
   "id": "D-QZsXFcwJcV",
   "metadata": {
    "colab": {
     "base_uri": "https://localhost:8080/",
     "height": 317
    },
    "id": "D-QZsXFcwJcV",
    "outputId": "445e98b5-6db0-4bdc-a7e3-0baa0d5ece1a"
   },
   "outputs": [
    {
     "name": "stdout",
     "output_type": "stream",
     "text": [
      "Accuracy for SGDL2 optimizer is  90.33\n",
      "F1 score for SGDL2 optimizer is  0.9029556334737399\n"
     ]
    },
    {
     "data": {
      "image/png": "[encoded data removed]",
      "text/plain": [
       "<Figure size 432x288 with 1 Axes>"
      ]
     },
     "metadata": {
      "needs_background": "light"
     },
     "output_type": "display_data"
    }
   ],
   "source": [
    "# Model and Criterion\n",
    "model = SimpleMLP(input_size, hidden_size, num_classes).to(device)\n",
    "criterion = nn.CrossEntropyLoss()\n",
    "num_epochs = 30\n",
    "\n",
    "# OPTIMISER\n",
    "optimizer = torch.optim.SGD(model.parameters(), lr=learning_rate,weight_decay = 1e-4)\n",
    "\n",
    "accuracy,f1,train_losses,test_losses = trainAndTestModel(model,criterion,optimizer,num_epochs)\n",
    "print(\"Accuracy for SGDL2 optimizer is \",accuracy)\n",
    "print(\"F1 score for SGDL2 optimizer is \",f1)\n",
    "plotTrainTestLosses(train_losses,test_losses,num_epochs)"
   ]
  },
  {
   "cell_type": "markdown",
   "id": "uptprrODwVgT",
   "metadata": {
    "id": "uptprrODwVgT"
   },
   "source": [
    "# 4. RMS PROP OPTIMIZER"
   ]
  },
  {
   "cell_type": "code",
   "execution_count": 25,
   "id": "Ss91vLrJ3lHy",
   "metadata": {
    "colab": {
     "base_uri": "https://localhost:8080/",
     "height": 317
    },
    "id": "Ss91vLrJ3lHy",
    "outputId": "0e178d1a-4b53-4ca9-b460-434d249bcbc9"
   },
   "outputs": [
    {
     "name": "stdout",
     "output_type": "stream",
     "text": [
      "Accuracy for RMSProp optimizer is  97.44\n",
      "F1 score for RMSProp optimizer is  0.9743747719637302\n"
     ]
    },
    {
     "data": {
      "image/png": "[encoded data removed]",
      "text/plain": [
       "<Figure size 432x288 with 1 Axes>"
      ]
     },
     "metadata": {
      "needs_background": "light"
     },
     "output_type": "display_data"
    }
   ],
   "source": [
    "# Model and Criterion\n",
    "model = SimpleMLP(input_size, hidden_size, num_classes).to(device)\n",
    "criterion = nn.CrossEntropyLoss()\n",
    "num_epochs = 5\n",
    "\n",
    "# OPTIMISER\n",
    "optimizer = torch.optim.RMSprop(model.parameters(), lr=learning_rate,weight_decay = 1e-4)  \n",
    "\n",
    "accuracy,f1,train_losses,test_losses = trainAndTestModel(model,criterion,optimizer,num_epochs)\n",
    "print(\"Accuracy for RMSProp optimizer is \",accuracy)\n",
    "print(\"F1 score for RMSProp optimizer is \",f1)\n",
    "plotTrainTestLosses(train_losses,test_losses,num_epochs)"
   ]
  },
  {
   "cell_type": "markdown",
   "id": "xJoo5h9Fwqj2",
   "metadata": {
    "id": "xJoo5h9Fwqj2"
   },
   "source": []
  },
  {
   "cell_type": "markdown",
   "id": "ETvbkZ_UwrZG",
   "metadata": {
    "id": "ETvbkZ_UwrZG"
   },
   "source": [
    "# 5. ADAM OPTIMIZER"
   ]
  },
  {
   "cell_type": "code",
   "execution_count": 10,
   "id": "HzPYW6dw4Wkf",
   "metadata": {
    "colab": {
     "base_uri": "https://localhost:8080/",
     "height": 317
    },
    "id": "HzPYW6dw4Wkf",
    "outputId": "7fdd0286-29b5-4c3d-f811-48cbf8d8a520"
   },
   "outputs": [
    {
     "name": "stdout",
     "output_type": "stream",
     "text": [
      "Accuracy for ADAM optimizer is  96.98\n",
      "F1 score for ADAM optimizer is  0.9697784193387532\n"
     ]
    },
    {
     "data": {
      "image/png": "[encoded data removed]",
      "text/plain": [
       "<Figure size 432x288 with 1 Axes>"
      ]
     },
     "metadata": {
      "needs_background": "light"
     },
     "output_type": "display_data"
    }
   ],
   "source": [
    "# Model and Criterion\n",
    "model = SimpleMLP(input_size, hidden_size, num_classes).to(device)\n",
    "criterion = nn.CrossEntropyLoss()\n",
    "num_epochs = 10\n",
    "\n",
    "# OPTIMISER\n",
    "optimizer = torch.optim.Adam(model.parameters(), lr=learning_rate)  \n",
    "\n",
    "accuracy,f1,train_losses_adam,test_losses_adam = trainAndTestModel(model,criterion,optimizer,num_epochs)\n",
    "print(\"Accuracy for ADAM optimizer is \",accuracy)\n",
    "print(\"F1 score for ADAM optimizer is \",f1)\n",
    "plotTrainTestLosses(train_losses_adam,test_losses_adam,num_epochs)"
   ]
  },
  {
   "cell_type": "markdown",
   "id": "QqC7Ia-UHHyP",
   "metadata": {
    "id": "QqC7Ia-UHHyP"
   },
   "source": [
    "Stochastic Gradient Descent (SGD) is a straightforward optimizer that updates the parameters in the direction opposite to the gradient of the objective function.\n",
    "SGD with Momentum improves upon SGD by incorporating momentum to smooth out updates, avoid local minima, and decrease high variance and fluctuations in irrelevant directions.\n",
    "SGD with L2-Regularization adds L2 regularization to the SGD update step to combat overfitting and high variance.\n",
    "Root Mean Square Propagation (RMSprop) is an optimizer that normalizes the parameter updates using a moving average of the squared gradients to ensure stability during training.\n",
    "Adaptive Moment Estimation (Adam) is an optimizer that dynamically adjusts the learning rate for each parameter using both momentum and a moving average of the squared gradients to enhance convergence speed, avoid local minima, and prevent overfitting.\n",
    "\n",
    "\n",
    "\n",
    "\n"
   ]
  },
  {
   "cell_type": "markdown",
   "id": "d09ffca0",
   "metadata": {
    "id": "d09ffca0",
    "jp-MarkdownHeadingCollapsed": true,
    "tags": []
   },
   "source": [
    "### Step five: Using SimpleMLP and Adam optimizer, train models using 2 different lr_schedulers.\n"
   ]
  },
  {
   "cell_type": "code",
   "execution_count": 11,
   "id": "JVopkHQwiahN",
   "metadata": {
    "id": "JVopkHQwiahN"
   },
   "outputs": [],
   "source": [
    "def trainAndTestLRModel(model,criterion,optimizer,num_epochs,scheduler):\n",
    "\n",
    "  train_losses = []\n",
    "  test_losses = []\n",
    "\n",
    "  \n",
    "  n_total_steps = len(trainloader_minibatch)\n",
    "\n",
    "  for epoch in range(num_epochs):\n",
    "    train_loss = 0\n",
    "    test_loss = 0\n",
    "    for i, (images, labels) in enumerate(trainloader_minibatch):\n",
    "      images = images.reshape(-1, 28*28).to(device)\n",
    "      labels = labels.to(device)\n",
    "      \n",
    "      # Forward Propogation\n",
    "      outputs = model(images).to(device)\n",
    "\n",
    "      # Calculating Loss\n",
    "      loss = criterion(outputs, labels)\n",
    "      \n",
    "      # Backward Propogation\n",
    "      loss.backward()\n",
    "\n",
    "      # Updating the values for Loss and weights\n",
    "      optimizer.step()\n",
    "\n",
    "      # Making all gradients of optimiser to zero for the next batch\n",
    "      optimizer.zero_grad()\n",
    "      \n",
    "      # if (i+1) % 100 == 0:\n",
    "      #     print (f'Epoch [{epoch+1}/{num_epochs}], Step [{i+1}/{n_total_steps}], Loss: {loss.item():.4f}')\n",
    "      train_loss += loss.item()\n",
    "\n",
    "    train_losses.append(train_loss/len(trainloader_minibatch))\n",
    "    scheduler.step()\n",
    "    with torch.no_grad():\n",
    "      for images, labels in testloader_minibatch:\n",
    "        images = images.reshape(-1, 28*28).to(device)\n",
    "        labels = labels.to(device)\n",
    "        output = model(images).to(device)\n",
    "        test_loss += criterion(output, labels).item()\n",
    "\n",
    "      test_losses.append(test_loss/len(testloader_minibatch))\n",
    "\n",
    "  with torch.no_grad():\n",
    "\n",
    "    n_correct = 0\n",
    "    n_samples = len(testloader_minibatch.dataset)\n",
    "    y_true = []\n",
    "    y_pred = []\n",
    "\n",
    "    for images, labels in testloader_minibatch:\n",
    "\n",
    "        images = images.reshape(-1, 28*28).to(device)\n",
    "        labels = labels.to(device)\n",
    "\n",
    "        outputs = model(images).to(device)\n",
    "\n",
    "        # max returns (output_value ,index)\n",
    "        _, predicted = torch.max(outputs, 1)\n",
    "        n_correct += (predicted == labels).sum().item()\n",
    "        y_true.extend(labels.cpu().numpy())\n",
    "        y_pred.extend(predicted.cpu().numpy())\n",
    "\n",
    "\n",
    "    acc = n_correct / n_samples\n",
    "    accuracy = acc*100\n",
    "    f1 = f1_score(y_true, y_pred, average='weighted')\n",
    "    return accuracy,f1,train_losses,test_losses"
   ]
  },
  {
   "cell_type": "markdown",
   "id": "_LibG8G6mNen",
   "metadata": {
    "id": "_LibG8G6mNen"
   },
   "source": [
    "## SimpleMLP and AdamOptimizer using Multiplicative and Multistep schedulers"
   ]
  },
  {
   "cell_type": "code",
   "execution_count": 14,
   "id": "yyFP9SNclI4e",
   "metadata": {
    "colab": {
     "base_uri": "https://localhost:8080/",
     "height": 616
    },
    "id": "yyFP9SNclI4e",
    "outputId": "ec632773-4fa6-47c0-c404-b409a82b3a35"
   },
   "outputs": [
    {
     "metadata": {
      "tags": null
     },
     "name": "stdout",
     "output_type": "stream",
     "text": [
      "Accuracy for ADAM optimizer using Multiplicative LR is  97.75\n",
      "F1 score for ADAM optimizer using Multiplicative LR is  0.9774904522804654\n"
     ]
    },
    {
     "data": {
      "image/png": "[encoded data removed]",
      "text/plain": [
       "<Figure size 432x288 with 1 Axes>"
      ]
     },
     "metadata": {},
     "output_type": "display_data"
    },
    {
     "name": "stdout",
     "output_type": "stream",
     "text": [
      "Accuracy for ADAM optimizer using Multistep LR is  97.84\n",
      "F1 score for ADAM optimizer using Multistep LR is  0.9783883631461731\n"
     ]
    },
    {
     "data": {
      "image/png": "[encoded data removed]",
      "text/plain": [
       "<Figure size 432x288 with 1 Axes>"
      ]
     },
     "metadata": {
      "needs_background": "light"
     },
     "output_type": "display_data"
    }
   ],
   "source": [
    "# Model and Criterion\n",
    "model = SimpleMLP(input_size, hidden_size, num_classes).to(device)\n",
    "criterion = nn.CrossEntropyLoss()\n",
    "num_epochs = 10\n",
    "\n",
    "#ADAM OPTIMISER(Multiplicative LR)\n",
    "learning_rate = 0.01\n",
    "optimizer = torch.optim.Adam(model.parameters(), lr=learning_rate,weight_decay = 1e-4)\n",
    "lambda_lr = lambda epoch: 0.1 ** (epoch // 1) \n",
    "scheduler = LambdaLR(optimizer, lr_lambda=lambda_lr)\n",
    "accuracy,f1,train_losses_mult,test_losses_mult = trainAndTestLRModel(model,criterion,optimizer,num_epochs,scheduler)\n",
    "print(\"Accuracy for ADAM optimizer using Multiplicative LR is \",accuracy)\n",
    "print(\"F1 score for ADAM optimizer using Multiplicative LR is \",f1)\n",
    "plotTrainTestLosses(train_losses_mult,test_losses_mult,num_epochs)\n",
    "\n",
    "# ADAM OPTIMISER(Multistep LR)\n",
    "learning_rate = 0.01\n",
    "optimizer = torch.optim.Adam(model.parameters(), lr=learning_rate,weight_decay = 1e-4)\n",
    "scheduler = lr_scheduler.MultiStepLR(optimizer, milestones=[2, 4, 6], gamma=0.1)\n",
    "accuracy,f1,train_losses_mstep,test_losses_mulstep = trainAndTestLRModel(model,criterion,optimizer,num_epochs,scheduler)\n",
    "print(\"Accuracy for ADAM optimizer using Multistep LR is \",accuracy)\n",
    "print(\"F1 score for ADAM optimizer using Multistep LR is \",f1)\n",
    "plotTrainTestLosses(train_losses_mstep,test_losses_mulstep,num_epochs)\n"
   ]
  },
  {
   "cell_type": "code",
   "execution_count": 28,
   "id": "wbXkA4z9aq5L",
   "metadata": {
    "colab": {
     "base_uri": "https://localhost:8080/"
    },
    "id": "wbXkA4z9aq5L",
    "outputId": "2645d6f9-b478-417e-bedb-dcb4ffe421a5"
   },
   "outputs": [
    {
     "name": "stdout",
     "output_type": "stream",
     "text": [
      "   Epoch  SimpleMLP Train Loss  SimpleMLP Test Loss  \\\n",
      "0      1              0.250265             0.240149   \n",
      "1      2              0.163666             0.175936   \n",
      "2      3              0.148340             0.173468   \n",
      "3      4              0.138118             0.260745   \n",
      "4      5              0.138843             0.211581   \n",
      "5      6              0.137271             0.145880   \n",
      "6      7              0.130336             0.211512   \n",
      "7      8              0.130497             0.167194   \n",
      "8      9              0.133913             0.169750   \n",
      "9     10              0.130556             0.236095   \n",
      "\n",
      "   MultiplicativeMLP Train Loss  MultiplicativeMLP Test Loss  \\\n",
      "0                      0.245455                     0.206899   \n",
      "1                      0.088439                     0.079555   \n",
      "2                      0.058365                     0.075359   \n",
      "3                      0.054607                     0.075092   \n",
      "4                      0.054176                     0.075067   \n",
      "5                      0.054130                     0.075064   \n",
      "6                      0.054126                     0.075064   \n",
      "7                      0.054125                     0.075064   \n",
      "8                      0.054125                     0.075064   \n",
      "9                      0.054125                     0.075064   \n",
      "\n",
      "   MultistepMLP Train Loss  MultistepMLP Test Loss  \n",
      "0                 0.165906                0.204739  \n",
      "1                 0.149863                0.203658  \n",
      "2                 0.076170                0.088464  \n",
      "3                 0.052323                0.082750  \n",
      "4                 0.041003                0.076334  \n",
      "5                 0.038686                0.075327  \n",
      "6                 0.036921                0.075081  \n",
      "7                 0.036735                0.074908  \n",
      "8                 0.036586                0.074766  \n",
      "9                 0.036450                0.074649  \n"
     ]
    }
   ],
   "source": [
    "import pandas as pd\n",
    "data = {\n",
    "    'Epoch': range(1, 11),\n",
    "    'SimpleMLP Train Loss': train_losses_adam,\n",
    "    'SimpleMLP Test Loss': test_losses_adam,\n",
    "    'MultiplicativeMLP Train Loss': train_losses_mult,\n",
    "    'MultiplicativeMLP Test Loss': test_losses_mult,\n",
    "    'MultistepMLP Train Loss': train_losses_mstep,\n",
    "    'MultistepMLP Test Loss': test_losses_mulstep\n",
    "}\n",
    "\n",
    "\n",
    "# create a pandas dataframe with the data\n",
    "df = pd.DataFrame(data)\n",
    "print(df)"
   ]
  },
  {
   "cell_type": "markdown",
   "id": "HFkrfo82cZb7",
   "metadata": {
    "id": "HFkrfo82cZb7"
   },
   "source": [
    "## SOME COMPARISONS\n",
    "Improved Convergence: A multiplicative LR scheduler can help the model converge faster and with better accuracy. This is because the LR is adjusted based on the progress of training, allowing the model to make smaller updates when it is close to convergence.\n",
    "\n",
    "Lower learning rates: The multiplicative LR scheduler will reduce the learning rate over time, resulting in smaller updates to the model's parameters. This can lead to a more stable convergence and less overfitting."
   ]
  },
  {
   "cell_type": "markdown",
   "id": "91631d83",
   "metadata": {
    "id": "91631d83",
    "jp-MarkdownHeadingCollapsed": true,
    "tags": []
   },
   "source": [
    "### Step six: Define 3 models with following changes:\n",
    "1. Add BatchNorm\n",
    "2. Add Dropout\n",
    "3. Add BatchNorm and Dropout"
   ]
  },
  {
   "cell_type": "markdown",
   "id": "BrdyxhgQePrx",
   "metadata": {
    "id": "BrdyxhgQePrx",
    "jp-MarkdownHeadingCollapsed": true,
    "tags": []
   },
   "source": [
    "### Step seven: Training the above models and compare with SimpleMLP."
   ]
  },
  {
   "cell_type": "markdown",
   "id": "bG325qQQLOJJ",
   "metadata": {
    "id": "bG325qQQLOJJ"
   },
   "source": [
    "### 1ST MODEL -- BATCH NORMALISATION"
   ]
  },
  {
   "cell_type": "code",
   "execution_count": 12,
   "id": "67d845a4",
   "metadata": {
    "id": "67d845a4"
   },
   "outputs": [],
   "source": [
    "class BatchNormMLP(nn.Module):\n",
    "    def __init__(self, input_size, hidden_size1, hidden_size2,hidden_size3, num_classes):\n",
    "        super(BatchNormMLP, self).__init__()\n",
    "        self.l1 = nn.Linear(input_size, hidden_size1)\n",
    "        self.bn1 = nn.BatchNorm1d(hidden_size1) \n",
    "        self.relu = nn.ReLU()\n",
    "        self.l2 = nn.Linear(hidden_size1, hidden_size2)\n",
    "        self.relu = nn.ReLU()\n",
    "        self.l3 = nn.Linear(hidden_size2, hidden_size3)\n",
    "        self.bn2 = nn.BatchNorm1d(hidden_size3) \n",
    "        self.relu = nn.ReLU() \n",
    "        self.l4 = nn.Linear(hidden_size3, num_classes) \n",
    "    \n",
    "    def forward(self, x):\n",
    "        out = self.l1(x)\n",
    "        out = self.bn1(out)\n",
    "        out = self.relu(out)\n",
    "        out = self.l2(out)\n",
    "        out = self.relu(out)\n",
    "        out = self.l3(out)\n",
    "        out = self.bn2(out)\n",
    "        out = self.relu(out)\n",
    "        out = self.l4(out)\n",
    "        return out"
   ]
  },
  {
   "cell_type": "code",
   "execution_count": 13,
   "id": "zW8CBxShpyZR",
   "metadata": {
    "colab": {
     "base_uri": "https://localhost:8080/",
     "height": 317
    },
    "id": "zW8CBxShpyZR",
    "outputId": "93e2ee7d-c5f6-4a58-cbb3-6ae7254aed8c"
   },
   "outputs": [
    {
     "name": "stdout",
     "output_type": "stream",
     "text": [
      "Accuracy for ADAM optimizer using Batch Normalization is  97.54\n",
      "F1 score for ADAM optimizer using Batch Normalization is  0.9753946665539348\n"
     ]
    },
    {
     "data": {
      "image/png": "[encoded data removed]",
      "text/plain": [
       "<Figure size 432x288 with 1 Axes>"
      ]
     },
     "metadata": {
      "needs_background": "light"
     },
     "output_type": "display_data"
    }
   ],
   "source": [
    "model = BatchNormMLP(input_size,500,400,300,num_classes).to(device)\n",
    "criterion = nn.CrossEntropyLoss()\n",
    "num_epochs = 10\n",
    "optimizer = torch.optim.Adam(model.parameters(), lr=learning_rate)\n",
    "accuracy,f1,train_losses,test_losses = trainAndTestModel(model,criterion,optimizer,num_epochs)\n",
    "print(\"Accuracy for ADAM optimizer using Batch Normalization is \",accuracy)\n",
    "print(\"F1 score for ADAM optimizer using Batch Normalization is \",f1)\n",
    "plotTrainTestLosses(train_losses,test_losses,num_epochs)"
   ]
  },
  {
   "cell_type": "markdown",
   "id": "SU5iqwIjLElR",
   "metadata": {
    "id": "SU5iqwIjLElR"
   },
   "source": [
    "### 2ND MODEL --  DROPOUT"
   ]
  },
  {
   "cell_type": "code",
   "execution_count": 27,
   "id": "Ycy_3YLPLDyM",
   "metadata": {
    "id": "Ycy_3YLPLDyM"
   },
   "outputs": [],
   "source": [
    "class DropoutMLP(nn.Module):\n",
    "    def __init__(self, input_size, hidden_size1, hidden_size2, num_classes):\n",
    "        super(DropoutMLP, self).__init__()\n",
    "        self.l1 = nn.Linear(input_size, hidden_size1)\n",
    "        self.relu = nn.ReLU()\n",
    "        self.l2 = nn.Linear(hidden_size1, hidden_size2)\n",
    "        self.relu = nn.ReLU()\n",
    "        self.l3 = nn.Linear(hidden_size2, num_classes) \n",
    "        self.dropout = nn.Dropout(p=0.4)\n",
    "    \n",
    "    def forward(self, x):\n",
    "        out = self.l1(x)\n",
    "        out = self.relu(out)\n",
    "        out = self.dropout(out)\n",
    "        out = self.l2(out)\n",
    "        out = self.relu(out)\n",
    "        out = self.dropout(out)\n",
    "        out = self.l3(out)\n",
    "        return out"
   ]
  },
  {
   "cell_type": "code",
   "execution_count": 28,
   "id": "l4n11OrFLVhe",
   "metadata": {
    "colab": {
     "base_uri": "https://localhost:8080/",
     "height": 317
    },
    "id": "l4n11OrFLVhe",
    "outputId": "9bf8c326-2f67-4fa0-e894-906a866be717"
   },
   "outputs": [
    {
     "name": "stdout",
     "output_type": "stream",
     "text": [
      "Accuracy for ADAM optimizer using Dropout is  92.05\n",
      "F1 score for ADAM optimizer using Dropout is  0.9210636299740065\n"
     ]
    },
    {
     "data": {
      "image/png": "[encoded data removed]",
      "text/plain": [
       "<Figure size 432x288 with 1 Axes>"
      ]
     },
     "metadata": {
      "needs_background": "light"
     },
     "output_type": "display_data"
    }
   ],
   "source": [
    "model = DropoutMLP(input_size,512,256,num_classes).to(device)\n",
    "criterion = nn.CrossEntropyLoss()\n",
    "num_epochs = 20\n",
    "optimizer = torch.optim.Adam(model.parameters(), lr=learning_rate)\n",
    "accuracy,f1,train_losses,test_losses = trainAndTestModel(model,criterion,optimizer,num_epochs)\n",
    "print(\"Accuracy for ADAM optimizer using Dropout is \",accuracy)\n",
    "print(\"F1 score for ADAM optimizer using Dropout is \",f1)\n",
    "plotTrainTestLosses(train_losses,test_losses,num_epochs)"
   ]
  },
  {
   "cell_type": "markdown",
   "id": "OfBIxMFrLWft",
   "metadata": {
    "id": "OfBIxMFrLWft"
   },
   "source": [
    "### 3RD MODEL -- DROPOUT + BATCH NORMALISATION"
   ]
  },
  {
   "cell_type": "code",
   "execution_count": 22,
   "id": "6cL1itFVMuSY",
   "metadata": {
    "id": "6cL1itFVMuSY"
   },
   "outputs": [],
   "source": [
    "class BatchDropoutMLP(nn.Module):\n",
    "    def __init__(self, input_size, hidden_size1, hidden_size2,hidden_size3, num_classes):\n",
    "        super(BatchDropoutMLP, self).__init__()\n",
    "        self.l1 = nn.Linear(input_size, hidden_size1)\n",
    "        self.bn1 = nn.BatchNorm1d(hidden_size1) \n",
    "        self.relu = nn.ReLU()\n",
    "        self.l2 = nn.Linear(hidden_size1, hidden_size2)\n",
    "        self.relu = nn.ReLU()\n",
    "        self.l3 = nn.Linear(hidden_size2, hidden_size3)\n",
    "        self.bn2 = nn.BatchNorm1d(hidden_size3) \n",
    "        self.relu = nn.ReLU() \n",
    "        self.l4 = nn.Linear(hidden_size3, num_classes) \n",
    "        self.dropout = nn.Dropout(p=0.5)\n",
    "    \n",
    "    def forward(self, x):\n",
    "        out = self.l1(x)\n",
    "        out = self.bn1(out)\n",
    "        out = self.relu(out)\n",
    "        out = self.dropout(out)\n",
    "        out = self.l2(out)\n",
    "        out = self.relu(out)\n",
    "        out = self.dropout(out)\n",
    "        out = self.l3(out)\n",
    "        out = self.bn2(out)\n",
    "        out = self.relu(out)\n",
    "        out = self.dropout(out)\n",
    "        out = self.l4(out)\n",
    "        return out"
   ]
  },
  {
   "cell_type": "code",
   "execution_count": 23,
   "id": "cpBbD3wqNfhY",
   "metadata": {
    "colab": {
     "base_uri": "https://localhost:8080/",
     "height": 317
    },
    "id": "cpBbD3wqNfhY",
    "outputId": "936d6e62-6f29-4648-fdb5-51ec462ed153"
   },
   "outputs": [
    {
     "name": "stdout",
     "output_type": "stream",
     "text": [
      "Accuracy for ADAM optimizer using Batch Normalization and Dropout is  95.92\n",
      "F1 score for ADAM optimizer using Batch Normalization and Dropout is  0.9591742981003152\n"
     ]
    },
    {
     "data": {
      "image/png": "[encoded data removed]",
      "text/plain": [
       "<Figure size 432x288 with 1 Axes>"
      ]
     },
     "metadata": {
      "needs_background": "light"
     },
     "output_type": "display_data"
    }
   ],
   "source": [
    "model = BatchDropoutMLP(input_size,500,300,100,num_classes).to(device)\n",
    "criterion = nn.CrossEntropyLoss()\n",
    "num_epochs = 10\n",
    "optimizer = torch.optim.Adam(model.parameters(), lr=learning_rate)\n",
    "accuracy,f1,train_losses,test_losses = trainAndTestModel(model,criterion,optimizer,num_epochs)\n",
    "print(\"Accuracy for ADAM optimizer using Batch Normalization and Dropout is \",accuracy)\n",
    "print(\"F1 score for ADAM optimizer using Batch Normalization and Dropout is \",f1)\n",
    "plotTrainTestLosses(train_losses,test_losses,num_epochs)"
   ]
  },
  {
   "cell_type": "markdown",
   "id": "RDzIDtSfeXl5",
   "metadata": {
    "id": "RDzIDtSfeXl5"
   },
   "source": [
    "## OBSERVATIONS\n",
    "Overall, using Dropout and Batch Normalization with ADAM optimizer can lead to better generalization and more stable learning, but it may also make the model converge slower\n",
    "\n",
    "Slower Convergence: Dropout and Batch Normalization can make the model converge slower than the model with only ADAM optimizer, especially if the model is large and complex. This is because Dropout and Batch Normalization introduce additional noise and randomness into the training process, which can make it harder for the model to find the optimal solution."
   ]
  },
  {
   "cell_type": "markdown",
   "id": "159e3334",
   "metadata": {
    "id": "159e3334",
    "jp-MarkdownHeadingCollapsed": true,
    "tags": []
   },
   "source": [
    "### Step eight: Mini-batch vs Stocastic\n"
   ]
  },
  {
   "cell_type": "code",
   "execution_count": 24,
   "id": "VA1sgLsIe_9N",
   "metadata": {
    "id": "VA1sgLsIe_9N"
   },
   "outputs": [],
   "source": [
    "def trainAndTestLRModelSTOCHASTIC(model,criterion,optimizer,num_epochs,scheduler):\n",
    "\n",
    "  train_losses = []\n",
    "  test_losses = []\n",
    "\n",
    "  \n",
    "  n_total_steps = len(trainloader_stochastic)\n",
    "\n",
    "  for epoch in range(num_epochs):\n",
    "    train_loss = 0\n",
    "    test_loss = 0\n",
    "    for i, (images, labels) in enumerate(trainloader_stochastic):\n",
    "      images = images.reshape(-1, 28*28).to(device)\n",
    "      labels = labels.to(device)\n",
    "      \n",
    "      # Forward Propogation\n",
    "      outputs = model(images).to(device)\n",
    "\n",
    "      # Calculating Loss\n",
    "      loss = criterion(outputs, labels)\n",
    "      \n",
    "      # Backward Propogation\n",
    "      loss.backward()\n",
    "\n",
    "      # Updating the values for Loss and weights\n",
    "      optimizer.step()\n",
    "\n",
    "      # Making all gradients of optimiser to zero for the next batch\n",
    "      optimizer.zero_grad()\n",
    "      \n",
    "      # if (i+1) % 100 == 0:\n",
    "      #     print (f'Epoch [{epoch+1}/{num_epochs}], Step [{i+1}/{n_total_steps}], Loss: {loss.item():.4f}')\n",
    "      train_loss += loss.item()\n",
    "\n",
    "    train_losses.append(train_loss/len(trainloader_stochastic))\n",
    "    scheduler.step()\n",
    "    with torch.no_grad():\n",
    "      for images, labels in testloader_stochastic:\n",
    "        images = images.reshape(-1, 28*28).to(device)\n",
    "        labels = labels.to(device)\n",
    "        output = model(images).to(device)\n",
    "        test_loss += criterion(output, labels).item()\n",
    "\n",
    "      test_losses.append(test_loss/len(testloader_stochastic))\n",
    "\n",
    "  with torch.no_grad():\n",
    "\n",
    "    n_correct = 0\n",
    "    n_samples = len(testloader_stochastic.dataset)\n",
    "    y_true = []\n",
    "    y_pred = []\n",
    "\n",
    "    for images, labels in testloader_stochastic:\n",
    "\n",
    "        images = images.reshape(-1, 28*28).to(device)\n",
    "        labels = labels.to(device)\n",
    "\n",
    "        outputs = model(images).to(device)\n",
    "\n",
    "        # max returns (output_value ,index)\n",
    "        _, predicted = torch.max(outputs, 1)\n",
    "        n_correct += (predicted == labels).sum().item()\n",
    "        y_true.extend(labels.cpu().numpy())\n",
    "        y_pred.extend(predicted.cpu().numpy())\n",
    "\n",
    "\n",
    "    acc = n_correct / n_samples\n",
    "    accuracy = acc*100\n",
    "    f1 = f1_score(y_true, y_pred, average='weighted')\n",
    "    return accuracy,f1,train_losses,test_losses"
   ]
  },
  {
   "cell_type": "code",
   "execution_count": 25,
   "id": "fa6fd837",
   "metadata": {
    "colab": {
     "base_uri": "https://localhost:8080/",
     "height": 317
    },
    "id": "fa6fd837",
    "outputId": "9e08ead7-c323-4af7-a34a-106319fcd945"
   },
   "outputs": [
    {
     "name": "stdout",
     "output_type": "stream",
     "text": [
      "Accuracy(Minibatch) for ADAM optimizer using Multistep LR id  95.54\n",
      "F1 score(Minibatch) for ADAM optimizer using Multistep LR is  0.955377220277229\n"
     ]
    },
    {
     "data": {
      "image/png": "[encoded data removed]",
      "text/plain": [
       "<Figure size 432x288 with 1 Axes>"
      ]
     },
     "metadata": {
      "needs_background": "light"
     },
     "output_type": "display_data"
    }
   ],
   "source": [
    "## ADAM optimizer with MultistepLR and taking Minibatch\n",
    "learning_rate = 0.01\n",
    "num_epochs = 10\n",
    "optimizer = torch.optim.Adam(model.parameters(), lr=learning_rate,weight_decay = 1e-4)\n",
    "scheduler = lr_scheduler.MultiStepLR(optimizer, milestones=[2, 4, 6], gamma=0.1)\n",
    "accuracy,f1,train_losses_mstep,test_losses_mulstep = trainAndTestLRModel(model,criterion,optimizer,num_epochs,scheduler)\n",
    "print(\"Accuracy(Minibatch) for ADAM optimizer using Multistep LR id \",accuracy)\n",
    "print(\"F1 score(Minibatch) for ADAM optimizer using Multistep LR is \",f1)\n",
    "plotTrainTestLosses(train_losses_mstep,test_losses_mulstep,num_epochs)\n",
    "\n",
    "\n"
   ]
  },
  {
   "cell_type": "code",
   "execution_count": 26,
   "id": "tQ6_S8qkiepe",
   "metadata": {
    "colab": {
     "base_uri": "https://localhost:8080/",
     "height": 317
    },
    "id": "tQ6_S8qkiepe",
    "outputId": "59bec99d-03a3-4cde-d198-78ad709184e4"
   },
   "outputs": [
    {
     "name": "stdout",
     "output_type": "stream",
     "text": [
      "Accuracy(Stochastic) for ADAM optimizer using Multistep LR is  34.760000000000005\n",
      "F1 score(Stochastic) for ADAM optimizer using Multistep LR is  0.3093156396904238\n"
     ]
    },
    {
     "data": {
      "image/png": "[encoded data removed]",
      "text/plain": [
       "<Figure size 432x288 with 1 Axes>"
      ]
     },
     "metadata": {
      "needs_background": "light"
     },
     "output_type": "display_data"
    }
   ],
   "source": [
    "## ADAM optimizer with MultistepLR and taking Stochastic\n",
    "learning_rate = 0.01\n",
    "optimizer = torch.optim.Adam(model.parameters(), lr=learning_rate,weight_decay = 1e-4)\n",
    "scheduler = lr_scheduler.MultiStepLR(optimizer, milestones=[2, 4, 6], gamma=0.1)\n",
    "accuracy,f1,train_losses_mstep,test_losses_mulstep = trainAndTestLRModelSTOCHASTIC(model,criterion,optimizer,num_epochs,scheduler)\n",
    "print(\"Accuracy(Stochastic) for ADAM optimizer using Multistep LR is \",accuracy)\n",
    "print(\"F1 score(Stochastic) for ADAM optimizer using Multistep LR is \",f1)\n",
    "plotTrainTestLosses(train_losses_mstep,test_losses_mulstep,num_epochs)"
   ]
  },
  {
   "cell_type": "markdown",
   "id": "d6f04f42",
   "metadata": {
    "id": "d6f04f42",
    "jp-MarkdownHeadingCollapsed": true,
    "tags": []
   },
   "source": [
    "## Learnings"
   ]
  },
  {
   "cell_type": "markdown",
   "id": "SJsab8bPgHo3",
   "metadata": {
    "id": "SJsab8bPgHo3"
   },
   "source": [
    "The main learning was kind of introduction to how to train a DEEP learning model, with different kinds of variations. I learn the use of various kinds of variations like Dropout , Batch Normalisation , and various kinds of optimizers with different schedulers.\n",
    "Also the use of various variations has helped me to deep dive to various aspects of DL. Like I came to know the need of Batch Normalisation and Droupout. Overfitting is a major challenge which can be tackled using these."
   ]
  }
 ],
 "metadata": {
  "accelerator": "GPU",
  "colab": {
   "provenance": []
  },
  "gpuClass": "standard",
  "kernelspec": {
   "display_name": "Python 3 (ipykernel)",
   "language": "python",
   "name": "python3"
  },
  "language_info": {
   "codemirror_mode": {
    "name": "ipython",
    "version": 3
   },
   "file_extension": ".py",
   "mimetype": "text/x-python",
   "name": "python",
   "nbconvert_exporter": "python",
   "pygments_lexer": "ipython3",
   "version": "3.11.1"
  },
  "widgets": {
   "application/vnd.jupyter.widget-state+json": {
    "003d9ea7eaec4f0db4508bcf9110b385": {
     "model_module": "@jupyter-widgets/controls",
     "model_module_version": "1.5.0",
     "model_name": "HBoxModel",
     "state": {
      "_dom_classes": [],
      "_model_module": "@jupyter-widgets/controls",
      "_model_module_version": "1.5.0",
      "_model_name": "HBoxModel",
      "_view_count": null,
      "_view_module": "@jupyter-widgets/controls",
      "_view_module_version": "1.5.0",
      "_view_name": "HBoxView",
      "box_style": "",
      "children": [
       "IPY_MODEL_7048a990805b4b6a8d94d502cf3e110e",
       "IPY_MODEL_6ac634f5452649149876cf3123f8ddea",
       "IPY_MODEL_be452a15f5a34bf598ce95335d0812b1"
      ],
      "layout": "IPY_MODEL_8cc39f8001624fb292658ba7e6f21533"
     }
    },
    "06d20f92f8f1490b86ed910e3b5194a9": {
     "model_module": "@jupyter-widgets/controls",
     "model_module_version": "1.5.0",
     "model_name": "DescriptionStyleModel",
     "state": {
      "_model_module": "@jupyter-widgets/controls",
      "_model_module_version": "1.5.0",
      "_model_name": "DescriptionStyleModel",
      "_view_count": null,
      "_view_module": "@jupyter-widgets/base",
      "_view_module_version": "1.2.0",
      "_view_name": "StyleView",
      "description_width": ""
     }
    },
    "089396cd351f47aa8f1df2ef02f16b32": {
     "model_module": "@jupyter-widgets/base",
     "model_module_version": "1.2.0",
     "model_name": "LayoutModel",
     "state": {
      "_model_module": "@jupyter-widgets/base",
      "_model_module_version": "1.2.0",
      "_model_name": "LayoutModel",
      "_view_count": null,
      "_view_module": "@jupyter-widgets/base",
      "_view_module_version": "1.2.0",
      "_view_name": "LayoutView",
      "align_content": null,
      "align_items": null,
      "align_self": null,
      "border": null,
      "bottom": null,
      "display": null,
      "flex": null,
      "flex_flow": null,
      "grid_area": null,
      "grid_auto_columns": null,
      "grid_auto_flow": null,
      "grid_auto_rows": null,
      "grid_column": null,
      "grid_gap": null,
      "grid_row": null,
      "grid_template_areas": null,
      "grid_template_columns": null,
      "grid_template_rows": null,
      "height": null,
      "justify_content": null,
      "justify_items": null,
      "left": null,
      "margin": null,
      "max_height": null,
      "max_width": null,
      "min_height": null,
      "min_width": null,
      "object_fit": null,
      "object_position": null,
      "order": null,
      "overflow": null,
      "overflow_x": null,
      "overflow_y": null,
      "padding": null,
      "right": null,
      "top": null,
      "visibility": null,
      "width": null
     }
    },
    "138a4c80622f48f497ff0f1b799ea91a": {
     "model_module": "@jupyter-widgets/base",
     "model_module_version": "1.2.0",
     "model_name": "LayoutModel",
     "state": {
      "_model_module": "@jupyter-widgets/base",
      "_model_module_version": "1.2.0",
      "_model_name": "LayoutModel",
      "_view_count": null,
      "_view_module": "@jupyter-widgets/base",
      "_view_module_version": "1.2.0",
      "_view_name": "LayoutView",
      "align_content": null,
      "align_items": null,
      "align_self": null,
      "border": null,
      "bottom": null,
      "display": null,
      "flex": null,
      "flex_flow": null,
      "grid_area": null,
      "grid_auto_columns": null,
      "grid_auto_flow": null,
      "grid_auto_rows": null,
      "grid_column": null,
      "grid_gap": null,
      "grid_row": null,
      "grid_template_areas": null,
      "grid_template_columns": null,
      "grid_template_rows": null,
      "height": null,
      "justify_content": null,
      "justify_items": null,
      "left": null,
      "margin": null,
      "max_height": null,
      "max_width": null,
      "min_height": null,
      "min_width": null,
      "object_fit": null,
      "object_position": null,
      "order": null,
      "overflow": null,
      "overflow_x": null,
      "overflow_y": null,
      "padding": null,
      "right": null,
      "top": null,
      "visibility": null,
      "width": null
     }
    },
    "14231536c23e45f99bcdb48d55c7fbee": {
     "model_module": "@jupyter-widgets/controls",
     "model_module_version": "1.5.0",
     "model_name": "HBoxModel",
     "state": {
      "_dom_classes": [],
      "_model_module": "@jupyter-widgets/controls",
      "_model_module_version": "1.5.0",
      "_model_name": "HBoxModel",
      "_view_count": null,
      "_view_module": "@jupyter-widgets/controls",
      "_view_module_version": "1.5.0",
      "_view_name": "HBoxView",
      "box_style": "",
      "children": [
       "IPY_MODEL_8249c029d3fc4dff92fefddcb8aba96c",
       "IPY_MODEL_3f98e4126f6c4f14b35e084f70ebfee5",
       "IPY_MODEL_d1724784850747c09e72944cd8b02d20"
      ],
      "layout": "IPY_MODEL_089396cd351f47aa8f1df2ef02f16b32"
     }
    },
    "1803bcbbe1524fa0b6e1db560de6b496": {
     "model_module": "@jupyter-widgets/base",
     "model_module_version": "1.2.0",
     "model_name": "LayoutModel",
     "state": {
      "_model_module": "@jupyter-widgets/base",
      "_model_module_version": "1.2.0",
      "_model_name": "LayoutModel",
      "_view_count": null,
      "_view_module": "@jupyter-widgets/base",
      "_view_module_version": "1.2.0",
      "_view_name": "LayoutView",
      "align_content": null,
      "align_items": null,
      "align_self": null,
      "border": null,
      "bottom": null,
      "display": null,
      "flex": null,
      "flex_flow": null,
      "grid_area": null,
      "grid_auto_columns": null,
      "grid_auto_flow": null,
      "grid_auto_rows": null,
      "grid_column": null,
      "grid_gap": null,
      "grid_row": null,
      "grid_template_areas": null,
      "grid_template_columns": null,
      "grid_template_rows": null,
      "height": null,
      "justify_content": null,
      "justify_items": null,
      "left": null,
      "margin": null,
      "max_height": null,
      "max_width": null,
      "min_height": null,
      "min_width": null,
      "object_fit": null,
      "object_position": null,
      "order": null,
      "overflow": null,
      "overflow_x": null,
      "overflow_y": null,
      "padding": null,
      "right": null,
      "top": null,
      "visibility": null,
      "width": null
     }
    },
    "1e82a5da3584491ab550217db9ce36fb": {
     "model_module": "@jupyter-widgets/controls",
     "model_module_version": "1.5.0",
     "model_name": "HBoxModel",
     "state": {
      "_dom_classes": [],
      "_model_module": "@jupyter-widgets/controls",
      "_model_module_version": "1.5.0",
      "_model_name": "HBoxModel",
      "_view_count": null,
      "_view_module": "@jupyter-widgets/controls",
      "_view_module_version": "1.5.0",
      "_view_name": "HBoxView",
      "box_style": "",
      "children": [
       "IPY_MODEL_adf1383661014578a3d206a9a0f96a90",
       "IPY_MODEL_511e48627c9e4bbb8a955cae6128d106",
       "IPY_MODEL_70ec1396ba1c4ed2bc81bac405882ea7"
      ],
      "layout": "IPY_MODEL_b4df50d897aa4ea7befd5033f94c23f5"
     }
    },
    "1f7fa945bcbe4240bc78ddf4c055d15d": {
     "model_module": "@jupyter-widgets/base",
     "model_module_version": "1.2.0",
     "model_name": "LayoutModel",
     "state": {
      "_model_module": "@jupyter-widgets/base",
      "_model_module_version": "1.2.0",
      "_model_name": "LayoutModel",
      "_view_count": null,
      "_view_module": "@jupyter-widgets/base",
      "_view_module_version": "1.2.0",
      "_view_name": "LayoutView",
      "align_content": null,
      "align_items": null,
      "align_self": null,
      "border": null,
      "bottom": null,
      "display": null,
      "flex": null,
      "flex_flow": null,
      "grid_area": null,
      "grid_auto_columns": null,
      "grid_auto_flow": null,
      "grid_auto_rows": null,
      "grid_column": null,
      "grid_gap": null,
      "grid_row": null,
      "grid_template_areas": null,
      "grid_template_columns": null,
      "grid_template_rows": null,
      "height": null,
      "justify_content": null,
      "justify_items": null,
      "left": null,
      "margin": null,
      "max_height": null,
      "max_width": null,
      "min_height": null,
      "min_width": null,
      "object_fit": null,
      "object_position": null,
      "order": null,
      "overflow": null,
      "overflow_x": null,
      "overflow_y": null,
      "padding": null,
      "right": null,
      "top": null,
      "visibility": null,
      "width": null
     }
    },
    "346c6ec92c114a78b9cfd9018eb8bd47": {
     "model_module": "@jupyter-widgets/base",
     "model_module_version": "1.2.0",
     "model_name": "LayoutModel",
     "state": {
      "_model_module": "@jupyter-widgets/base",
      "_model_module_version": "1.2.0",
      "_model_name": "LayoutModel",
      "_view_count": null,
      "_view_module": "@jupyter-widgets/base",
      "_view_module_version": "1.2.0",
      "_view_name": "LayoutView",
      "align_content": null,
      "align_items": null,
      "align_self": null,
      "border": null,
      "bottom": null,
      "display": null,
      "flex": null,
      "flex_flow": null,
      "grid_area": null,
      "grid_auto_columns": null,
      "grid_auto_flow": null,
      "grid_auto_rows": null,
      "grid_column": null,
      "grid_gap": null,
      "grid_row": null,
      "grid_template_areas": null,
      "grid_template_columns": null,
      "grid_template_rows": null,
      "height": null,
      "justify_content": null,
      "justify_items": null,
      "left": null,
      "margin": null,
      "max_height": null,
      "max_width": null,
      "min_height": null,
      "min_width": null,
      "object_fit": null,
      "object_position": null,
      "order": null,
      "overflow": null,
      "overflow_x": null,
      "overflow_y": null,
      "padding": null,
      "right": null,
      "top": null,
      "visibility": null,
      "width": null
     }
    },
    "3f98e4126f6c4f14b35e084f70ebfee5": {
     "model_module": "@jupyter-widgets/controls",
     "model_module_version": "1.5.0",
     "model_name": "FloatProgressModel",
     "state": {
      "_dom_classes": [],
      "_model_module": "@jupyter-widgets/controls",
      "_model_module_version": "1.5.0",
      "_model_name": "FloatProgressModel",
      "_view_count": null,
      "_view_module": "@jupyter-widgets/controls",
      "_view_module_version": "1.5.0",
      "_view_name": "ProgressView",
      "bar_style": "success",
      "description": "",
      "description_tooltip": null,
      "layout": "IPY_MODEL_a3f4ff80b97340469f4109cc2773249b",
      "max": 4542,
      "min": 0,
      "orientation": "horizontal",
      "style": "IPY_MODEL_6913a94764dc44dcaadd18d45c8ee897",
      "value": 4542
     }
    },
    "3fadf57cfe634845b001e00366852599": {
     "model_module": "@jupyter-widgets/controls",
     "model_module_version": "1.5.0",
     "model_name": "HBoxModel",
     "state": {
      "_dom_classes": [],
      "_model_module": "@jupyter-widgets/controls",
      "_model_module_version": "1.5.0",
      "_model_name": "HBoxModel",
      "_view_count": null,
      "_view_module": "@jupyter-widgets/controls",
      "_view_module_version": "1.5.0",
      "_view_name": "HBoxView",
      "box_style": "",
      "children": [
       "IPY_MODEL_aab050d190954055a3e2d170f5d0454d",
       "IPY_MODEL_80383b761829482cbdd364572b18885c",
       "IPY_MODEL_92e38d6266134a79a7aafabb26c0ac3f"
      ],
      "layout": "IPY_MODEL_1803bcbbe1524fa0b6e1db560de6b496"
     }
    },
    "4377b8ad05274122944495ed483aea2f": {
     "model_module": "@jupyter-widgets/controls",
     "model_module_version": "1.5.0",
     "model_name": "ProgressStyleModel",
     "state": {
      "_model_module": "@jupyter-widgets/controls",
      "_model_module_version": "1.5.0",
      "_model_name": "ProgressStyleModel",
      "_view_count": null,
      "_view_module": "@jupyter-widgets/base",
      "_view_module_version": "1.2.0",
      "_view_name": "StyleView",
      "bar_color": null,
      "description_width": ""
     }
    },
    "45859ae2ef7b4e80b27bb662b515b57d": {
     "model_module": "@jupyter-widgets/base",
     "model_module_version": "1.2.0",
     "model_name": "LayoutModel",
     "state": {
      "_model_module": "@jupyter-widgets/base",
      "_model_module_version": "1.2.0",
      "_model_name": "LayoutModel",
      "_view_count": null,
      "_view_module": "@jupyter-widgets/base",
      "_view_module_version": "1.2.0",
      "_view_name": "LayoutView",
      "align_content": null,
      "align_items": null,
      "align_self": null,
      "border": null,
      "bottom": null,
      "display": null,
      "flex": null,
      "flex_flow": null,
      "grid_area": null,
      "grid_auto_columns": null,
      "grid_auto_flow": null,
      "grid_auto_rows": null,
      "grid_column": null,
      "grid_gap": null,
      "grid_row": null,
      "grid_template_areas": null,
      "grid_template_columns": null,
      "grid_template_rows": null,
      "height": null,
      "justify_content": null,
      "justify_items": null,
      "left": null,
      "margin": null,
      "max_height": null,
      "max_width": null,
      "min_height": null,
      "min_width": null,
      "object_fit": null,
      "object_position": null,
      "order": null,
      "overflow": null,
      "overflow_x": null,
      "overflow_y": null,
      "padding": null,
      "right": null,
      "top": null,
      "visibility": null,
      "width": null
     }
    },
    "4bac833384fe4294a626e1d5b5ec216b": {
     "model_module": "@jupyter-widgets/controls",
     "model_module_version": "1.5.0",
     "model_name": "DescriptionStyleModel",
     "state": {
      "_model_module": "@jupyter-widgets/controls",
      "_model_module_version": "1.5.0",
      "_model_name": "DescriptionStyleModel",
      "_view_count": null,
      "_view_module": "@jupyter-widgets/base",
      "_view_module_version": "1.2.0",
      "_view_name": "StyleView",
      "description_width": ""
     }
    },
    "511e48627c9e4bbb8a955cae6128d106": {
     "model_module": "@jupyter-widgets/controls",
     "model_module_version": "1.5.0",
     "model_name": "FloatProgressModel",
     "state": {
      "_dom_classes": [],
      "_model_module": "@jupyter-widgets/controls",
      "_model_module_version": "1.5.0",
      "_model_name": "FloatProgressModel",
      "_view_count": null,
      "_view_module": "@jupyter-widgets/controls",
      "_view_module_version": "1.5.0",
      "_view_name": "ProgressView",
      "bar_style": "success",
      "description": "",
      "description_tooltip": null,
      "layout": "IPY_MODEL_ae7c02e80c154ceb8cebcd7d484e2a45",
      "max": 9912422,
      "min": 0,
      "orientation": "horizontal",
      "style": "IPY_MODEL_a6cf056b669a452cafc8c803dfee9290",
      "value": 9912422
     }
    },
    "62cf16a2cbd9488eab6099218f0006c5": {
     "model_module": "@jupyter-widgets/base",
     "model_module_version": "1.2.0",
     "model_name": "LayoutModel",
     "state": {
      "_model_module": "@jupyter-widgets/base",
      "_model_module_version": "1.2.0",
      "_model_name": "LayoutModel",
      "_view_count": null,
      "_view_module": "@jupyter-widgets/base",
      "_view_module_version": "1.2.0",
      "_view_name": "LayoutView",
      "align_content": null,
      "align_items": null,
      "align_self": null,
      "border": null,
      "bottom": null,
      "display": null,
      "flex": null,
      "flex_flow": null,
      "grid_area": null,
      "grid_auto_columns": null,
      "grid_auto_flow": null,
      "grid_auto_rows": null,
      "grid_column": null,
      "grid_gap": null,
      "grid_row": null,
      "grid_template_areas": null,
      "grid_template_columns": null,
      "grid_template_rows": null,
      "height": null,
      "justify_content": null,
      "justify_items": null,
      "left": null,
      "margin": null,
      "max_height": null,
      "max_width": null,
      "min_height": null,
      "min_width": null,
      "object_fit": null,
      "object_position": null,
      "order": null,
      "overflow": null,
      "overflow_x": null,
      "overflow_y": null,
      "padding": null,
      "right": null,
      "top": null,
      "visibility": null,
      "width": null
     }
    },
    "6913a94764dc44dcaadd18d45c8ee897": {
     "model_module": "@jupyter-widgets/controls",
     "model_module_version": "1.5.0",
     "model_name": "ProgressStyleModel",
     "state": {
      "_model_module": "@jupyter-widgets/controls",
      "_model_module_version": "1.5.0",
      "_model_name": "ProgressStyleModel",
      "_view_count": null,
      "_view_module": "@jupyter-widgets/base",
      "_view_module_version": "1.2.0",
      "_view_name": "StyleView",
      "bar_color": null,
      "description_width": ""
     }
    },
    "6ac634f5452649149876cf3123f8ddea": {
     "model_module": "@jupyter-widgets/controls",
     "model_module_version": "1.5.0",
     "model_name": "FloatProgressModel",
     "state": {
      "_dom_classes": [],
      "_model_module": "@jupyter-widgets/controls",
      "_model_module_version": "1.5.0",
      "_model_name": "FloatProgressModel",
      "_view_count": null,
      "_view_module": "@jupyter-widgets/controls",
      "_view_module_version": "1.5.0",
      "_view_name": "ProgressView",
      "bar_style": "success",
      "description": "",
      "description_tooltip": null,
      "layout": "IPY_MODEL_346c6ec92c114a78b9cfd9018eb8bd47",
      "max": 1648877,
      "min": 0,
      "orientation": "horizontal",
      "style": "IPY_MODEL_4377b8ad05274122944495ed483aea2f",
      "value": 1648877
     }
    },
    "7048a990805b4b6a8d94d502cf3e110e": {
     "model_module": "@jupyter-widgets/controls",
     "model_module_version": "1.5.0",
     "model_name": "HTMLModel",
     "state": {
      "_dom_classes": [],
      "_model_module": "@jupyter-widgets/controls",
      "_model_module_version": "1.5.0",
      "_model_name": "HTMLModel",
      "_view_count": null,
      "_view_module": "@jupyter-widgets/controls",
      "_view_module_version": "1.5.0",
      "_view_name": "HTMLView",
      "description": "",
      "description_tooltip": null,
      "layout": "IPY_MODEL_1f7fa945bcbe4240bc78ddf4c055d15d",
      "placeholder": "​",
      "style": "IPY_MODEL_e8a21eede79a4063a7b39df3f81e4a43",
      "value": "100%"
     }
    },
    "70ec1396ba1c4ed2bc81bac405882ea7": {
     "model_module": "@jupyter-widgets/controls",
     "model_module_version": "1.5.0",
     "model_name": "HTMLModel",
     "state": {
      "_dom_classes": [],
      "_model_module": "@jupyter-widgets/controls",
      "_model_module_version": "1.5.0",
      "_model_name": "HTMLModel",
      "_view_count": null,
      "_view_module": "@jupyter-widgets/controls",
      "_view_module_version": "1.5.0",
      "_view_name": "HTMLView",
      "description": "",
      "description_tooltip": null,
      "layout": "IPY_MODEL_bd1f96367db44c8f9572a699857483d7",
      "placeholder": "​",
      "style": "IPY_MODEL_4bac833384fe4294a626e1d5b5ec216b",
      "value": " 9912422/9912422 [00:00&lt;00:00, 165750564.10it/s]"
     }
    },
    "79ae8efd26c74eeeb3c986628cf09cc7": {
     "model_module": "@jupyter-widgets/controls",
     "model_module_version": "1.5.0",
     "model_name": "DescriptionStyleModel",
     "state": {
      "_model_module": "@jupyter-widgets/controls",
      "_model_module_version": "1.5.0",
      "_model_name": "DescriptionStyleModel",
      "_view_count": null,
      "_view_module": "@jupyter-widgets/base",
      "_view_module_version": "1.2.0",
      "_view_name": "StyleView",
      "description_width": ""
     }
    },
    "7cfeff3461854cdfbfbdd3ea58657d3f": {
     "model_module": "@jupyter-widgets/base",
     "model_module_version": "1.2.0",
     "model_name": "LayoutModel",
     "state": {
      "_model_module": "@jupyter-widgets/base",
      "_model_module_version": "1.2.0",
      "_model_name": "LayoutModel",
      "_view_count": null,
      "_view_module": "@jupyter-widgets/base",
      "_view_module_version": "1.2.0",
      "_view_name": "LayoutView",
      "align_content": null,
      "align_items": null,
      "align_self": null,
      "border": null,
      "bottom": null,
      "display": null,
      "flex": null,
      "flex_flow": null,
      "grid_area": null,
      "grid_auto_columns": null,
      "grid_auto_flow": null,
      "grid_auto_rows": null,
      "grid_column": null,
      "grid_gap": null,
      "grid_row": null,
      "grid_template_areas": null,
      "grid_template_columns": null,
      "grid_template_rows": null,
      "height": null,
      "justify_content": null,
      "justify_items": null,
      "left": null,
      "margin": null,
      "max_height": null,
      "max_width": null,
      "min_height": null,
      "min_width": null,
      "object_fit": null,
      "object_position": null,
      "order": null,
      "overflow": null,
      "overflow_x": null,
      "overflow_y": null,
      "padding": null,
      "right": null,
      "top": null,
      "visibility": null,
      "width": null
     }
    },
    "80383b761829482cbdd364572b18885c": {
     "model_module": "@jupyter-widgets/controls",
     "model_module_version": "1.5.0",
     "model_name": "FloatProgressModel",
     "state": {
      "_dom_classes": [],
      "_model_module": "@jupyter-widgets/controls",
      "_model_module_version": "1.5.0",
      "_model_name": "FloatProgressModel",
      "_view_count": null,
      "_view_module": "@jupyter-widgets/controls",
      "_view_module_version": "1.5.0",
      "_view_name": "ProgressView",
      "bar_style": "success",
      "description": "",
      "description_tooltip": null,
      "layout": "IPY_MODEL_815f665defa142d89f5bf1d58bc5ab20",
      "max": 28881,
      "min": 0,
      "orientation": "horizontal",
      "style": "IPY_MODEL_cc4c1f7e6cf94b6d8bd10570932ef39e",
      "value": 28881
     }
    },
    "815f665defa142d89f5bf1d58bc5ab20": {
     "model_module": "@jupyter-widgets/base",
     "model_module_version": "1.2.0",
     "model_name": "LayoutModel",
     "state": {
      "_model_module": "@jupyter-widgets/base",
      "_model_module_version": "1.2.0",
      "_model_name": "LayoutModel",
      "_view_count": null,
      "_view_module": "@jupyter-widgets/base",
      "_view_module_version": "1.2.0",
      "_view_name": "LayoutView",
      "align_content": null,
      "align_items": null,
      "align_self": null,
      "border": null,
      "bottom": null,
      "display": null,
      "flex": null,
      "flex_flow": null,
      "grid_area": null,
      "grid_auto_columns": null,
      "grid_auto_flow": null,
      "grid_auto_rows": null,
      "grid_column": null,
      "grid_gap": null,
      "grid_row": null,
      "grid_template_areas": null,
      "grid_template_columns": null,
      "grid_template_rows": null,
      "height": null,
      "justify_content": null,
      "justify_items": null,
      "left": null,
      "margin": null,
      "max_height": null,
      "max_width": null,
      "min_height": null,
      "min_width": null,
      "object_fit": null,
      "object_position": null,
      "order": null,
      "overflow": null,
      "overflow_x": null,
      "overflow_y": null,
      "padding": null,
      "right": null,
      "top": null,
      "visibility": null,
      "width": null
     }
    },
    "81c6fe9f0a8a42228f0775e18125ef55": {
     "model_module": "@jupyter-widgets/controls",
     "model_module_version": "1.5.0",
     "model_name": "DescriptionStyleModel",
     "state": {
      "_model_module": "@jupyter-widgets/controls",
      "_model_module_version": "1.5.0",
      "_model_name": "DescriptionStyleModel",
      "_view_count": null,
      "_view_module": "@jupyter-widgets/base",
      "_view_module_version": "1.2.0",
      "_view_name": "StyleView",
      "description_width": ""
     }
    },
    "8249c029d3fc4dff92fefddcb8aba96c": {
     "model_module": "@jupyter-widgets/controls",
     "model_module_version": "1.5.0",
     "model_name": "HTMLModel",
     "state": {
      "_dom_classes": [],
      "_model_module": "@jupyter-widgets/controls",
      "_model_module_version": "1.5.0",
      "_model_name": "HTMLModel",
      "_view_count": null,
      "_view_module": "@jupyter-widgets/controls",
      "_view_module_version": "1.5.0",
      "_view_name": "HTMLView",
      "description": "",
      "description_tooltip": null,
      "layout": "IPY_MODEL_45859ae2ef7b4e80b27bb662b515b57d",
      "placeholder": "​",
      "style": "IPY_MODEL_79ae8efd26c74eeeb3c986628cf09cc7",
      "value": "100%"
     }
    },
    "8cc39f8001624fb292658ba7e6f21533": {
     "model_module": "@jupyter-widgets/base",
     "model_module_version": "1.2.0",
     "model_name": "LayoutModel",
     "state": {
      "_model_module": "@jupyter-widgets/base",
      "_model_module_version": "1.2.0",
      "_model_name": "LayoutModel",
      "_view_count": null,
      "_view_module": "@jupyter-widgets/base",
      "_view_module_version": "1.2.0",
      "_view_name": "LayoutView",
      "align_content": null,
      "align_items": null,
      "align_self": null,
      "border": null,
      "bottom": null,
      "display": null,
      "flex": null,
      "flex_flow": null,
      "grid_area": null,
      "grid_auto_columns": null,
      "grid_auto_flow": null,
      "grid_auto_rows": null,
      "grid_column": null,
      "grid_gap": null,
      "grid_row": null,
      "grid_template_areas": null,
      "grid_template_columns": null,
      "grid_template_rows": null,
      "height": null,
      "justify_content": null,
      "justify_items": null,
      "left": null,
      "margin": null,
      "max_height": null,
      "max_width": null,
      "min_height": null,
      "min_width": null,
      "object_fit": null,
      "object_position": null,
      "order": null,
      "overflow": null,
      "overflow_x": null,
      "overflow_y": null,
      "padding": null,
      "right": null,
      "top": null,
      "visibility": null,
      "width": null
     }
    },
    "92e38d6266134a79a7aafabb26c0ac3f": {
     "model_module": "@jupyter-widgets/controls",
     "model_module_version": "1.5.0",
     "model_name": "HTMLModel",
     "state": {
      "_dom_classes": [],
      "_model_module": "@jupyter-widgets/controls",
      "_model_module_version": "1.5.0",
      "_model_name": "HTMLModel",
      "_view_count": null,
      "_view_module": "@jupyter-widgets/controls",
      "_view_module_version": "1.5.0",
      "_view_name": "HTMLView",
      "description": "",
      "description_tooltip": null,
      "layout": "IPY_MODEL_7cfeff3461854cdfbfbdd3ea58657d3f",
      "placeholder": "​",
      "style": "IPY_MODEL_99fccefd8af34649a4a5107f8bf29007",
      "value": " 28881/28881 [00:00&lt;00:00, 1469487.03it/s]"
     }
    },
    "99fccefd8af34649a4a5107f8bf29007": {
     "model_module": "@jupyter-widgets/controls",
     "model_module_version": "1.5.0",
     "model_name": "DescriptionStyleModel",
     "state": {
      "_model_module": "@jupyter-widgets/controls",
      "_model_module_version": "1.5.0",
      "_model_name": "DescriptionStyleModel",
      "_view_count": null,
      "_view_module": "@jupyter-widgets/base",
      "_view_module_version": "1.2.0",
      "_view_name": "StyleView",
      "description_width": ""
     }
    },
    "a13c19e3e3ac4be59a75d01ccffb3289": {
     "model_module": "@jupyter-widgets/controls",
     "model_module_version": "1.5.0",
     "model_name": "DescriptionStyleModel",
     "state": {
      "_model_module": "@jupyter-widgets/controls",
      "_model_module_version": "1.5.0",
      "_model_name": "DescriptionStyleModel",
      "_view_count": null,
      "_view_module": "@jupyter-widgets/base",
      "_view_module_version": "1.2.0",
      "_view_name": "StyleView",
      "description_width": ""
     }
    },
    "a33609ba7b3446309adbf5080dd72a9e": {
     "model_module": "@jupyter-widgets/base",
     "model_module_version": "1.2.0",
     "model_name": "LayoutModel",
     "state": {
      "_model_module": "@jupyter-widgets/base",
      "_model_module_version": "1.2.0",
      "_model_name": "LayoutModel",
      "_view_count": null,
      "_view_module": "@jupyter-widgets/base",
      "_view_module_version": "1.2.0",
      "_view_name": "LayoutView",
      "align_content": null,
      "align_items": null,
      "align_self": null,
      "border": null,
      "bottom": null,
      "display": null,
      "flex": null,
      "flex_flow": null,
      "grid_area": null,
      "grid_auto_columns": null,
      "grid_auto_flow": null,
      "grid_auto_rows": null,
      "grid_column": null,
      "grid_gap": null,
      "grid_row": null,
      "grid_template_areas": null,
      "grid_template_columns": null,
      "grid_template_rows": null,
      "height": null,
      "justify_content": null,
      "justify_items": null,
      "left": null,
      "margin": null,
      "max_height": null,
      "max_width": null,
      "min_height": null,
      "min_width": null,
      "object_fit": null,
      "object_position": null,
      "order": null,
      "overflow": null,
      "overflow_x": null,
      "overflow_y": null,
      "padding": null,
      "right": null,
      "top": null,
      "visibility": null,
      "width": null
     }
    },
    "a3f4ff80b97340469f4109cc2773249b": {
     "model_module": "@jupyter-widgets/base",
     "model_module_version": "1.2.0",
     "model_name": "LayoutModel",
     "state": {
      "_model_module": "@jupyter-widgets/base",
      "_model_module_version": "1.2.0",
      "_model_name": "LayoutModel",
      "_view_count": null,
      "_view_module": "@jupyter-widgets/base",
      "_view_module_version": "1.2.0",
      "_view_name": "LayoutView",
      "align_content": null,
      "align_items": null,
      "align_self": null,
      "border": null,
      "bottom": null,
      "display": null,
      "flex": null,
      "flex_flow": null,
      "grid_area": null,
      "grid_auto_columns": null,
      "grid_auto_flow": null,
      "grid_auto_rows": null,
      "grid_column": null,
      "grid_gap": null,
      "grid_row": null,
      "grid_template_areas": null,
      "grid_template_columns": null,
      "grid_template_rows": null,
      "height": null,
      "justify_content": null,
      "justify_items": null,
      "left": null,
      "margin": null,
      "max_height": null,
      "max_width": null,
      "min_height": null,
      "min_width": null,
      "object_fit": null,
      "object_position": null,
      "order": null,
      "overflow": null,
      "overflow_x": null,
      "overflow_y": null,
      "padding": null,
      "right": null,
      "top": null,
      "visibility": null,
      "width": null
     }
    },
    "a6cf056b669a452cafc8c803dfee9290": {
     "model_module": "@jupyter-widgets/controls",
     "model_module_version": "1.5.0",
     "model_name": "ProgressStyleModel",
     "state": {
      "_model_module": "@jupyter-widgets/controls",
      "_model_module_version": "1.5.0",
      "_model_name": "ProgressStyleModel",
      "_view_count": null,
      "_view_module": "@jupyter-widgets/base",
      "_view_module_version": "1.2.0",
      "_view_name": "StyleView",
      "bar_color": null,
      "description_width": ""
     }
    },
    "a77d4e4662ef4a82bbe17b556f7a36fd": {
     "model_module": "@jupyter-widgets/controls",
     "model_module_version": "1.5.0",
     "model_name": "DescriptionStyleModel",
     "state": {
      "_model_module": "@jupyter-widgets/controls",
      "_model_module_version": "1.5.0",
      "_model_name": "DescriptionStyleModel",
      "_view_count": null,
      "_view_module": "@jupyter-widgets/base",
      "_view_module_version": "1.2.0",
      "_view_name": "StyleView",
      "description_width": ""
     }
    },
    "aab050d190954055a3e2d170f5d0454d": {
     "model_module": "@jupyter-widgets/controls",
     "model_module_version": "1.5.0",
     "model_name": "HTMLModel",
     "state": {
      "_dom_classes": [],
      "_model_module": "@jupyter-widgets/controls",
      "_model_module_version": "1.5.0",
      "_model_name": "HTMLModel",
      "_view_count": null,
      "_view_module": "@jupyter-widgets/controls",
      "_view_module_version": "1.5.0",
      "_view_name": "HTMLView",
      "description": "",
      "description_tooltip": null,
      "layout": "IPY_MODEL_62cf16a2cbd9488eab6099218f0006c5",
      "placeholder": "​",
      "style": "IPY_MODEL_06d20f92f8f1490b86ed910e3b5194a9",
      "value": "100%"
     }
    },
    "adf1383661014578a3d206a9a0f96a90": {
     "model_module": "@jupyter-widgets/controls",
     "model_module_version": "1.5.0",
     "model_name": "HTMLModel",
     "state": {
      "_dom_classes": [],
      "_model_module": "@jupyter-widgets/controls",
      "_model_module_version": "1.5.0",
      "_model_name": "HTMLModel",
      "_view_count": null,
      "_view_module": "@jupyter-widgets/controls",
      "_view_module_version": "1.5.0",
      "_view_name": "HTMLView",
      "description": "",
      "description_tooltip": null,
      "layout": "IPY_MODEL_a33609ba7b3446309adbf5080dd72a9e",
      "placeholder": "​",
      "style": "IPY_MODEL_81c6fe9f0a8a42228f0775e18125ef55",
      "value": "100%"
     }
    },
    "ae7c02e80c154ceb8cebcd7d484e2a45": {
     "model_module": "@jupyter-widgets/base",
     "model_module_version": "1.2.0",
     "model_name": "LayoutModel",
     "state": {
      "_model_module": "@jupyter-widgets/base",
      "_model_module_version": "1.2.0",
      "_model_name": "LayoutModel",
      "_view_count": null,
      "_view_module": "@jupyter-widgets/base",
      "_view_module_version": "1.2.0",
      "_view_name": "LayoutView",
      "align_content": null,
      "align_items": null,
      "align_self": null,
      "border": null,
      "bottom": null,
      "display": null,
      "flex": null,
      "flex_flow": null,
      "grid_area": null,
      "grid_auto_columns": null,
      "grid_auto_flow": null,
      "grid_auto_rows": null,
      "grid_column": null,
      "grid_gap": null,
      "grid_row": null,
      "grid_template_areas": null,
      "grid_template_columns": null,
      "grid_template_rows": null,
      "height": null,
      "justify_content": null,
      "justify_items": null,
      "left": null,
      "margin": null,
      "max_height": null,
      "max_width": null,
      "min_height": null,
      "min_width": null,
      "object_fit": null,
      "object_position": null,
      "order": null,
      "overflow": null,
      "overflow_x": null,
      "overflow_y": null,
      "padding": null,
      "right": null,
      "top": null,
      "visibility": null,
      "width": null
     }
    },
    "b4df50d897aa4ea7befd5033f94c23f5": {
     "model_module": "@jupyter-widgets/base",
     "model_module_version": "1.2.0",
     "model_name": "LayoutModel",
     "state": {
      "_model_module": "@jupyter-widgets/base",
      "_model_module_version": "1.2.0",
      "_model_name": "LayoutModel",
      "_view_count": null,
      "_view_module": "@jupyter-widgets/base",
      "_view_module_version": "1.2.0",
      "_view_name": "LayoutView",
      "align_content": null,
      "align_items": null,
      "align_self": null,
      "border": null,
      "bottom": null,
      "display": null,
      "flex": null,
      "flex_flow": null,
      "grid_area": null,
      "grid_auto_columns": null,
      "grid_auto_flow": null,
      "grid_auto_rows": null,
      "grid_column": null,
      "grid_gap": null,
      "grid_row": null,
      "grid_template_areas": null,
      "grid_template_columns": null,
      "grid_template_rows": null,
      "height": null,
      "justify_content": null,
      "justify_items": null,
      "left": null,
      "margin": null,
      "max_height": null,
      "max_width": null,
      "min_height": null,
      "min_width": null,
      "object_fit": null,
      "object_position": null,
      "order": null,
      "overflow": null,
      "overflow_x": null,
      "overflow_y": null,
      "padding": null,
      "right": null,
      "top": null,
      "visibility": null,
      "width": null
     }
    },
    "bd1f96367db44c8f9572a699857483d7": {
     "model_module": "@jupyter-widgets/base",
     "model_module_version": "1.2.0",
     "model_name": "LayoutModel",
     "state": {
      "_model_module": "@jupyter-widgets/base",
      "_model_module_version": "1.2.0",
      "_model_name": "LayoutModel",
      "_view_count": null,
      "_view_module": "@jupyter-widgets/base",
      "_view_module_version": "1.2.0",
      "_view_name": "LayoutView",
      "align_content": null,
      "align_items": null,
      "align_self": null,
      "border": null,
      "bottom": null,
      "display": null,
      "flex": null,
      "flex_flow": null,
      "grid_area": null,
      "grid_auto_columns": null,
      "grid_auto_flow": null,
      "grid_auto_rows": null,
      "grid_column": null,
      "grid_gap": null,
      "grid_row": null,
      "grid_template_areas": null,
      "grid_template_columns": null,
      "grid_template_rows": null,
      "height": null,
      "justify_content": null,
      "justify_items": null,
      "left": null,
      "margin": null,
      "max_height": null,
      "max_width": null,
      "min_height": null,
      "min_width": null,
      "object_fit": null,
      "object_position": null,
      "order": null,
      "overflow": null,
      "overflow_x": null,
      "overflow_y": null,
      "padding": null,
      "right": null,
      "top": null,
      "visibility": null,
      "width": null
     }
    },
    "be452a15f5a34bf598ce95335d0812b1": {
     "model_module": "@jupyter-widgets/controls",
     "model_module_version": "1.5.0",
     "model_name": "HTMLModel",
     "state": {
      "_dom_classes": [],
      "_model_module": "@jupyter-widgets/controls",
      "_model_module_version": "1.5.0",
      "_model_name": "HTMLModel",
      "_view_count": null,
      "_view_module": "@jupyter-widgets/controls",
      "_view_module_version": "1.5.0",
      "_view_name": "HTMLView",
      "description": "",
      "description_tooltip": null,
      "layout": "IPY_MODEL_138a4c80622f48f497ff0f1b799ea91a",
      "placeholder": "​",
      "style": "IPY_MODEL_a13c19e3e3ac4be59a75d01ccffb3289",
      "value": " 1648877/1648877 [00:00&lt;00:00, 44152066.53it/s]"
     }
    },
    "c55daa4dd54e4bc1bba0eb036e885589": {
     "model_module": "@jupyter-widgets/base",
     "model_module_version": "1.2.0",
     "model_name": "LayoutModel",
     "state": {
      "_model_module": "@jupyter-widgets/base",
      "_model_module_version": "1.2.0",
      "_model_name": "LayoutModel",
      "_view_count": null,
      "_view_module": "@jupyter-widgets/base",
      "_view_module_version": "1.2.0",
      "_view_name": "LayoutView",
      "align_content": null,
      "align_items": null,
      "align_self": null,
      "border": null,
      "bottom": null,
      "display": null,
      "flex": null,
      "flex_flow": null,
      "grid_area": null,
      "grid_auto_columns": null,
      "grid_auto_flow": null,
      "grid_auto_rows": null,
      "grid_column": null,
      "grid_gap": null,
      "grid_row": null,
      "grid_template_areas": null,
      "grid_template_columns": null,
      "grid_template_rows": null,
      "height": null,
      "justify_content": null,
      "justify_items": null,
      "left": null,
      "margin": null,
      "max_height": null,
      "max_width": null,
      "min_height": null,
      "min_width": null,
      "object_fit": null,
      "object_position": null,
      "order": null,
      "overflow": null,
      "overflow_x": null,
      "overflow_y": null,
      "padding": null,
      "right": null,
      "top": null,
      "visibility": null,
      "width": null
     }
    },
    "cc4c1f7e6cf94b6d8bd10570932ef39e": {
     "model_module": "@jupyter-widgets/controls",
     "model_module_version": "1.5.0",
     "model_name": "ProgressStyleModel",
     "state": {
      "_model_module": "@jupyter-widgets/controls",
      "_model_module_version": "1.5.0",
      "_model_name": "ProgressStyleModel",
      "_view_count": null,
      "_view_module": "@jupyter-widgets/base",
      "_view_module_version": "1.2.0",
      "_view_name": "StyleView",
      "bar_color": null,
      "description_width": ""
     }
    },
    "d1724784850747c09e72944cd8b02d20": {
     "model_module": "@jupyter-widgets/controls",
     "model_module_version": "1.5.0",
     "model_name": "HTMLModel",
     "state": {
      "_dom_classes": [],
      "_model_module": "@jupyter-widgets/controls",
      "_model_module_version": "1.5.0",
      "_model_name": "HTMLModel",
      "_view_count": null,
      "_view_module": "@jupyter-widgets/controls",
      "_view_module_version": "1.5.0",
      "_view_name": "HTMLView",
      "description": "",
      "description_tooltip": null,
      "layout": "IPY_MODEL_c55daa4dd54e4bc1bba0eb036e885589",
      "placeholder": "​",
      "style": "IPY_MODEL_a77d4e4662ef4a82bbe17b556f7a36fd",
      "value": " 4542/4542 [00:00&lt;00:00, 257885.65it/s]"
     }
    },
    "e8a21eede79a4063a7b39df3f81e4a43": {
     "model_module": "@jupyter-widgets/controls",
     "model_module_version": "1.5.0",
     "model_name": "DescriptionStyleModel",
     "state": {
      "_model_module": "@jupyter-widgets/controls",
      "_model_module_version": "1.5.0",
      "_model_name": "DescriptionStyleModel",
      "_view_count": null,
      "_view_module": "@jupyter-widgets/base",
      "_view_module_version": "1.2.0",
      "_view_name": "StyleView",
      "description_width": ""
     }
    }
   }
  }
 },
 "nbformat": 4,
 "nbformat_minor": 5
}
